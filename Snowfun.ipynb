{
 "cells": [
  {
   "cell_type": "code",
   "execution_count": 285,
   "metadata": {},
   "outputs": [],
   "source": [
    "import turtle\n",
    "turtle.clearscreen()\n",
    "turtle.hideturtle()"
   ]
  },
  {
   "cell_type": "code",
   "execution_count": 286,
   "metadata": {},
   "outputs": [],
   "source": [
    "class Circle():\n",
    "    def draw(self,x,y,r,p_color):\n",
    "        turtle.penup()\n",
    "        turtle.goto(x,y)#set cordinates..base point\n",
    "        turtle.pencolor(p_color)\n",
    "        turtle.pendown()\n",
    "        turtle.circle(r)\n",
    "    def draw_fill(self,x):\n",
    "        turtle.color(x)\n",
    "        turtle.begin_fill()\n",
    "        turtle.pendown()\n",
    "        turtle.circle(7)\n",
    "        turtle.end_fill()\n",
    "        turtle.penup()\n",
    "    \n",
    "class Rectangle():\n",
    "        def Rdraw(self,x):\n",
    "            turtle.pensize(5)\n",
    "            turtle.pencolor(x)\n",
    "            turtle.pendown()\n",
    "            turtle.fd(30)\n",
    "            turtle.bk(60)\n",
    "            turtle.color(x)\n",
    "            turtle.begin_fill()\n",
    "            turtle.fd(10)\n",
    "            turtle.left(90)\n",
    "            turtle.fd(60)\n",
    "            turtle.right(90)\n",
    "            turtle.fd(40)\n",
    "            turtle.right(90)\n",
    "            turtle.fd(60)\n",
    "            turtle.left(90)\n",
    "            turtle.end_fill()\n",
    "            turtle.pensize(1)\n",
    "            turtle.pencolor('black')\n",
    "            \n",
    "        \n",
    "class SnowHuman():\n",
    "    def __init__(self,x,y,p_color):\n",
    "        self.x=x\n",
    "        self.y=y\n",
    "        self.p_color=p_color\n",
    "        self.r=40\n",
    "    def drawSB1(self):\n",
    "        c=Circle()\n",
    "        c.draw(self.x,self.y,self.r,self.p_color)\n",
    "    def drawSB2(self):\n",
    "        c=Circle()\n",
    "        self.y=self.y-100\n",
    "        self.r=50\n",
    "        c.draw(self.x,self.y,self.r,self.p_color)\n",
    "    def drawSB3(self):\n",
    "        c=Circle()\n",
    "        self.r=60\n",
    "        self.y=self.y-120\n",
    "        c.draw(self.x,self.y,self.r,self.p_color)\n",
    "        \n",
    "class SnowMan(SnowHuman):\n",
    "    def __init__(self,x,y,p_color):\n",
    "        SnowHuman.__init__(self,x,y,p_color)\n",
    "    def eyes(self):\n",
    "        turtle.penup()\n",
    "        turtle.goto(self.x-15,self.y+50)#drawing eyes move a little from x and go above from y may be till centre or above\n",
    "        turtle.pendown()\n",
    "        turtle.dot(8,'blue')\n",
    "        turtle.penup()\n",
    "        turtle.goto(self.x+15,self.y+50)# draw another eye reduce -x and y remains same \n",
    "        turtle.pendown()\n",
    "        turtle.dot(8,'blue')\n",
    "    def mouth(self,l):\n",
    "        turtle.penup()\n",
    "        turtle.goto(self.x,self.y+20)\n",
    "        turtle.pencolor(l)\n",
    "        turtle.pensize(5)\n",
    "        turtle.pendown()\n",
    "        turtle.fd(10)\n",
    "        turtle.left(40)\n",
    "        turtle.fd(8)\n",
    "        turtle.bk(8)\n",
    "        turtle.penup()\n",
    "        turtle.goto(self.x,self.y+20)\n",
    "        turtle.pendown()\n",
    "        turtle.right(40)\n",
    "        turtle.bk(10)\n",
    "        turtle.left(140)\n",
    "        turtle.fd(8)\n",
    "        turtle.right(140)\n",
    "        turtle.pencolor('black')\n",
    "        turtle.pensize(1)\n",
    "    def hat(self,z):\n",
    "        turtle.penup()\n",
    "        turtle.goto(self.x,self.y+80)\n",
    "        r=Rectangle()\n",
    "        r.Rdraw(z)\n",
    "    def buttons(self,b):\n",
    "        c=Circle()\n",
    "        turtle.penup()\n",
    "        turtle.goto(self.x,self.y+30)\n",
    "        c.draw_fill(b)\n",
    "        turtle.goto(self.x,self.y+70)\n",
    "        c.draw_fill(b)\n",
    "    def hands(self,e):\n",
    "        turtle.pencolor(e)\n",
    "        turtle.pensize(5)\n",
    "        turtle.goto(self.x-20,self.y+70)\n",
    "        turtle.pendown()\n",
    "        turtle.left(160)\n",
    "        turtle.fd(70)\n",
    "        turtle.right(160)\n",
    "        turtle.penup()\n",
    "        turtle.goto(self.x+20,self.y+70)\n",
    "        turtle.pendown()\n",
    "        turtle.right(160)\n",
    "        turtle.bk(70)\n",
    "        turtle.left(160)\n",
    "        turtle.pensize(1)\n",
    "\n",
    "    "
   ]
  },
  {
   "cell_type": "code",
   "execution_count": 287,
   "metadata": {},
   "outputs": [],
   "source": [
    "sm=SnowMan(-150,100,'grey')\n",
    "sm.drawSB1()\n",
    "sm.eyes()\n",
    "sm.mouth('maroon')\n",
    "sm.hat('maroon')\n",
    "sm.drawSB2()\n",
    "sm.buttons('grey')\n",
    "sm.hands('maroon')\n",
    "sm.drawSB3()\n",
    "sm.buttons('grey')\n"
   ]
  },
  {
   "cell_type": "code",
   "execution_count": null,
   "metadata": {
    "collapsed": true
   },
   "outputs": [],
   "source": []
  },
  {
   "cell_type": "code",
   "execution_count": null,
   "metadata": {
    "collapsed": true
   },
   "outputs": [],
   "source": []
  },
  {
   "cell_type": "code",
   "execution_count": null,
   "metadata": {
    "collapsed": true
   },
   "outputs": [],
   "source": []
  },
  {
   "cell_type": "code",
   "execution_count": null,
   "metadata": {
    "collapsed": true
   },
   "outputs": [],
   "source": []
  },
  {
   "cell_type": "code",
   "execution_count": null,
   "metadata": {
    "collapsed": true
   },
   "outputs": [],
   "source": []
  },
  {
   "cell_type": "code",
   "execution_count": null,
   "metadata": {
    "collapsed": true
   },
   "outputs": [],
   "source": []
  }
 ],
 "metadata": {
  "kernelspec": {
   "display_name": "Python 2",
   "language": "python",
   "name": "python2"
  },
  "language_info": {
   "codemirror_mode": {
    "name": "ipython",
    "version": 2
   },
   "file_extension": ".py",
   "mimetype": "text/x-python",
   "name": "python",
   "nbconvert_exporter": "python",
   "pygments_lexer": "ipython2",
   "version": "2.7.12"
  }
 },
 "nbformat": 4,
 "nbformat_minor": 2
}
